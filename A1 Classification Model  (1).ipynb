{
 "cells": [
  {
   "cell_type": "markdown",
   "id": "861d169f",
   "metadata": {},
   "source": [
    "<hr style=\"height:.9px;border:none;color:#333;background-color:#333;\" />\n",
    "<hr style=\"height:.9px;border:none;color:#333;background-color:#333;\" />\n",
    "\n",
    "<h1> A1 | Classification Modeling Development</h1>\n",
    "<h2>DAT-5390 | Computational Data Analytics with Python</h2>\n",
    "\n",
    "Ahmed Sabet - MBAN First Year <br>\n",
    "Hult International Business School<br><br><br>\n",
    "\n",
    "\n",
    "<hr style=\"height:.9px;border:none;color:#333;background-color:#333;\" />\n",
    "<hr style=\"height:.9px;border:none;color:#333;background-color:#333;\" />"
   ]
  },
  {
   "cell_type": "markdown",
   "id": "8f0e8d48",
   "metadata": {},
   "source": [
    "<h2>Part I: Importing packages and Database</h2>\n"
   ]
  },
  {
   "cell_type": "code",
   "execution_count": null,
   "id": "c02c6f4b",
   "metadata": {},
   "outputs": [],
   "source": [
    "#Importing Libraries\n",
    "import pandas as pd                   \n",
    "import matplotlib.pyplot as plt       \n",
    "import seaborn as sns                 \n",
    "import numpy as np                    \n",
    "import statsmodels.formula.api as smf \n",
    "from sklearn.model_selection import train_test_split\n",
    "import sklearn.linear_model\n",
    "import statsmodels.formula.api as smf                # logistic regression\n",
    "from sklearn.metrics import confusion_matrix         # confusion matrix\n",
    "from sklearn.metrics import roc_auc_score            # auc score\n",
    "from sklearn.neighbors import KNeighborsClassifier   # KNN for classification\n",
    "from sklearn.neighbors import KNeighborsRegressor    # KNN for regression\n",
    "from sklearn.preprocessing import StandardScaler     # standard scaler\n",
    "from sklearn.tree import DecisionTreeClassifier      # classification trees\n",
    "from sklearn.tree import plot_tree                   # tree plots\n",
    "from sklearn.linear_model import LogisticRegression \n",
    "\n",
    "\n",
    "# setting pandas print options\n",
    "pd.set_option('display.max_rows', 500)\n",
    "pd.set_option('display.max_columns', 500)\n",
    "pd.set_option('display.width', 1000)\n",
    "\n",
    "\n",
    "# specifying file name\n",
    "file = r'C:\\Users\\Asabe\\Downloads\\Cross_Sell_Success_Dataset_2023.xlsx'\n",
    "\n",
    "\n",
    "# reading the file into Python\n",
    "cross_sell = pd.read_excel(file)\n",
    "\n",
    "# Investigating the null values of the apprentice chef dataset\n",
    "# looking at what features do we have\n",
    "# and then\n",
    "# summing together the results per column\n",
    "cross_sell.isnull().sum(axis = 0)\n",
    "\n",
    "#Validating that the Data has been Replaced Successfully\n",
    "cross_sell.iloc[ 2 , :]\n",
    "\n"
   ]
  },
  {
   "cell_type": "markdown",
   "id": "ae94a287",
   "metadata": {},
   "source": [
    "<hr style=\"height:.9px;border:none;color:#333;background-color:#333;\" /><br>\n",
    "\n",
    "<strong>User-Defined Functions</strong><br>\n"
   ]
  },
  {
   "cell_type": "code",
   "execution_count": null,
   "id": "6f1914d0",
   "metadata": {},
   "outputs": [],
   "source": [
    "########################################\n",
    "# visual_cm\n",
    "########################################\n",
    "def visual_cm(true_y, pred_y, labels = None):\n",
    "    \"\"\"\n",
    "Creates a visualization of a confusion matrix.\n",
    "\n",
    "PARAMETERS\n",
    "----------\n",
    "true_y : true values for the response variable\n",
    "pred_y : predicted values for the response variable\n",
    "labels : , default None\n",
    "    \"\"\"\n",
    "    # visualizing the confusion matrix\n",
    "\n",
    "    # setting labels\n",
    "    lbls = labels\n",
    "    \n",
    "\n",
    "    # declaring a confusion matrix object\n",
    "    cm = confusion_matrix(y_true = true_y,\n",
    "                          y_pred = pred_y)\n",
    "\n",
    "\n",
    "    # heatmap\n",
    "    sns.heatmap(cm,\n",
    "                annot       = True,\n",
    "                xticklabels = lbls,\n",
    "                yticklabels = lbls,\n",
    "                cmap        = 'Blues',\n",
    "                fmt         = 'g')\n",
    "\n",
    "\n",
    "    plt.xlabel('Predicted')\n",
    "    plt.ylabel('Actual')\n",
    "    plt.title('Confusion Matrix of the Classifier')\n",
    "    plt.show()"
   ]
  },
  {
   "cell_type": "markdown",
   "id": "e1232f70",
   "metadata": {},
   "source": [
    "<hr style=\"height:.9px;border:none;color:#333;background-color:#333;\" /><br>\n"
   ]
  },
  {
   "cell_type": "markdown",
   "id": "f09333a9",
   "metadata": {},
   "source": [
    "<hr style=\"height:.9px;border:none;color:#333;background-color:#333;\" /><br>\n"
   ]
  },
  {
   "cell_type": "code",
   "execution_count": null,
   "id": "a3d6b46a",
   "metadata": {},
   "outputs": [],
   "source": [
    "#Train_Test Stratification"
   ]
  },
  {
   "cell_type": "code",
   "execution_count": null,
   "id": "88ead227",
   "metadata": {},
   "outputs": [],
   "source": [
    "#CHECKING THE CROSS SELLING \n",
    "# SUCCESS RATE\n",
    "cross_sell.loc[ : ,'CROSS_SELL_SUCCESS'].value_counts(normalize = True).round(decimals = 2)"
   ]
  },
  {
   "cell_type": "markdown",
   "id": "3f1b2600",
   "metadata": {},
   "source": [
    "<hr style=\"height:.9px;border:none;color:#333;background-color:#333;\" /><br>\n",
    "\n",
    "\n",
    "<strong>Feature Engineering New Features</strong><br>"
   ]
  },
  {
   "cell_type": "code",
   "execution_count": null,
   "id": "c73430b5",
   "metadata": {},
   "outputs": [],
   "source": [
    "\n",
    "cross_sell ['USER_INTERACTION'] = (cross_sell['PC_LOGINS'] + cross_sell['MOBILE_LOGINS'] )/cross_sell['AVG_TIME_PER_SITE_VISIT']\n",
    "cross_sell ['Custom_Orders'   ]   = (cross_sell['UNIQUE_MEALS_PURCH'] + cross_sell['PRODUCT_CATEGORIES_VIEWED']) / cross_sell['TOTAL_MEALS_ORDERED']\n",
    "cross_sell ['Largest_To_Total' ] = cross_sell['LARGEST_ORDER_SIZE'] / cross_sell['TOTAL_MEALS_ORDERED']\n",
    "cross_sell ['Weekly_Optins' ] = cross_sell['WEEKLY_PLAN']/cross_sell['TOTAL_MEALS_ORDERED']\n",
    "cross_sell ['Avg Prep Per Meal'] = cross_sell['AVG_PREP_VID_TIME']/cross_sell['TOTAL_MEALS_ORDERED']\n",
    "cross_sell ['Avg Time vs Orders'] = cross_sell['AVG_TIME_PER_SITE_VISIT']/cross_sell['TOTAL_MEALS_ORDERED']\n",
    "cross_sell [ 'Ordered Meals Per Photo' ] = cross_sell['TOTAL_MEALS_ORDERED']/cross_sell['PRODUCT_CATEGORIES_VIEWED']\n",
    "cross_sell ['Cancellation_Frequency']  = cross_sell ['CANCELLATIONS_AFTER_NOON']/ cross_sell['TOTAL_MEALS_ORDERED']\n",
    "cross_sell ['Categories Frequency']  = cross_sell ['PRODUCT_CATEGORIES_VIEWED']/ cross_sell['AVG_TIME_PER_SITE_VISIT']\n",
    "cross_sell ['Time to Unique Orders'] = cross_sell ['AVG_TIME_PER_SITE_VISIT']/cross_sell['UNIQUE_MEALS_PURCH']\n",
    "cross_sell ['Largest order size to Total Pohots' ] = cross_sell['LARGEST_ORDER_SIZE'] / cross_sell['TOTAL_PHOTOS_VIEWED']\n",
    "cross_sell ['Largest order size to Avg Time' ] = cross_sell['LARGEST_ORDER_SIZE'] / cross_sell['AVG_TIME_PER_SITE_VISIT']\n"
   ]
  },
  {
   "cell_type": "code",
   "execution_count": null,
   "id": "2254c606",
   "metadata": {},
   "outputs": [],
   "source": [
    "# creating a new column called 'LATE DELIVERIES' since the original has space in the title of the column\n",
    "cross_sell['LATE_DELIVERIES'] = cross_sell.iloc[:, 13]\n",
    "\n",
    "# delete original 'LATE_DELIVERIES ' column with space\n",
    "cross_sell = cross_sell.drop(columns=\"LATE_DELIVERIES \")"
   ]
  },
  {
   "cell_type": "code",
   "execution_count": null,
   "id": "da517efb",
   "metadata": {},
   "outputs": [],
   "source": [
    "cross_sell['USER_INTERACTION']"
   ]
  },
  {
   "cell_type": "markdown",
   "id": "524ba082",
   "metadata": {},
   "source": [
    "<hr style=\"height:.35px;border:none;color:#333;background-color:#333;\" /><br>\n",
    "\n",
    "\n",
    "<strong>Feature Engineering Part 2</strong><br>"
   ]
  },
  {
   "cell_type": "code",
   "execution_count": null,
   "id": "e522868b",
   "metadata": {},
   "outputs": [],
   "source": [
    "#Instantiating a placegolder for Customers\n",
    "#that rate orders greater than the average\n",
    "cross_sell['High_Customer_Statisfaction'] = 0\n",
    "\n",
    "# Checking for a higher rating than the mean\n",
    "for index, value in cross_sell.iterrows():    \n",
    "    \n",
    "    if cross_sell.loc[index, 'AVG_MEAN_RATING'] > 2.5:\n",
    "        cross_sell.loc[index,'High_Customer_Statisfaction' ] = 1\n",
    "    \n",
    "    elif cross_sell.loc[index, 'AVG_MEAN_RATING'] < 2.5:\n",
    "        cross_sell.loc[index,'High_Customer_Statisfaction' ] = 0"
   ]
  },
  {
   "cell_type": "markdown",
   "id": "372a42df",
   "metadata": {},
   "source": [
    "<hr style=\"height:.9px;border:none;color:#333;background-color:#333;\" /><br>\n",
    "\n",
    "\n",
    "<strong> Developing Email Classification</strong><br>\n"
   ]
  },
  {
   "cell_type": "code",
   "execution_count": null,
   "id": "34c7847e",
   "metadata": {},
   "outputs": [],
   "source": [
    "#Classifying E-mails into Personal and Other\n",
    "def classify_email(email):\n",
    "    if any(domain in email for domain in ['@me.com', '@aol.com', '@hotmail.com', '@live.com', '@msn.com', '@passport.com', \n",
    "                                          '@mmm.com', '@amex.com', '@apple.com', '@boeing.com', '@caterpillar.com', \n",
    "                                          '@chevron.com', '@cisco.com', '@cocacola.com', '@disney.com', '@dupont.com', \n",
    "                                          '@exxon.com', '@ge.org', '@goldmansacs.com', '@homedepot.com', '@ibm.com', \n",
    "                                          '@intel.com', '@jnj.com', '@jpmorgan.com', '@mcdonalds.com', '@merck.com', \n",
    "                                          '@microsoft.com', '@nike.com', '@pfizer.com', '@pg.com', '@travelers.com', \n",
    "                                          '@unitedtech.com', '@unitedhealth.com', '@verizon.com', '@visa.com', '@walmart.com']):\n",
    "        return 0\n",
    "    else:\n",
    "        return 1\n",
    "\n",
    "# add a new column \"personal email\" with 0 and 1 values\n",
    "cross_sell['personal_email'] = cross_sell['EMAIL'].apply(classify_email)"
   ]
  },
  {
   "cell_type": "code",
   "execution_count": null,
   "id": "8b4e0bc4",
   "metadata": {},
   "outputs": [],
   "source": [
    "#Classifying E-mails into Personal and Other\n",
    "def junk_email(email):\n",
    "    if any(domain in email for domain in ['@me.com', '@aol.com', '@hotmail.com', '@live.com', '@msn.com', '@passport.com', \n",
    "                                          ]):\n",
    "        return 1\n",
    "    else:\n",
    "        return 0\n",
    "\n",
    "# add a new column \"personal email\" with 0 and 1 values\n",
    "cross_sell['junk_email'] = cross_sell['EMAIL'].apply(junk_email)"
   ]
  },
  {
   "cell_type": "code",
   "execution_count": null,
   "id": "0448fc5e",
   "metadata": {},
   "outputs": [],
   "source": [
    "cross_sell['junk_email'].value_counts(normalize = True)"
   ]
  },
  {
   "cell_type": "code",
   "execution_count": null,
   "id": "dc277caf",
   "metadata": {},
   "outputs": [],
   "source": [
    "# Create an empty list to store the classification results\n",
    "TARGARYEN_FLAG = []\n",
    "\n",
    "# Iterate over the elements in the EMAIL column\n",
    "for email in cross_sell['EMAIL']:\n",
    "    # Check if the email contains the substring \"targaryen\"\n",
    "    if 'targaryen' in email:\n",
    "        targaryen_flags.append(1)\n",
    "    else:\n",
    "        targaryen_flags.append(0)\n"
   ]
  },
  {
   "cell_type": "code",
   "execution_count": null,
   "id": "914f406c",
   "metadata": {},
   "outputs": [],
   "source": [
    "cross_sell['TARGARYEN_FLAG'].value_counts(normalize = False)"
   ]
  },
  {
   "cell_type": "code",
   "execution_count": null,
   "id": "53b04cda",
   "metadata": {},
   "outputs": [],
   "source": [
    "# Create an empty list to store the classification results\n",
    "TOP_COMPANY = []\n",
    "\n",
    "# Iterate over the elements in the EMAIL column\n",
    "for email in cross_sell['EMAIL']:\n",
    "    # Check if the email contains any of the specified substrings\n",
    "    if 'walmart' in email or 'apple' in email or 'ge' in email or 'goldmansachs' in email or 'caterpillar' in email or 'pg' in email:\n",
    "        TOP_COMPANY.append(1)\n",
    "    else:\n",
    "        TOP_COMPANY.append(0)\n",
    "\n",
    "# Add the classification results to the DataFrame as a new column\n",
    "cross_sell['TOP_COMPANY_FLAG'] = TOP_COMPANY"
   ]
  },
  {
   "cell_type": "code",
   "execution_count": null,
   "id": "88292c34",
   "metadata": {},
   "outputs": [],
   "source": [
    "cross_sell['TOP_COMPANY_FLAG'].value_counts(normalize = False)"
   ]
  },
  {
   "cell_type": "markdown",
   "id": "0c755f83",
   "metadata": {},
   "source": [
    "<hr style=\"height:.9px;border:none;color:#333;background-color:#333;\" /><br>\n",
    "\n",
    "\n",
    "<strong> Developing Customer Activity Breakdown </strong><br>\n"
   ]
  },
  {
   "cell_type": "code",
   "execution_count": null,
   "id": "5a916b1b",
   "metadata": {},
   "outputs": [],
   "source": [
    "#Creating a code to classify the data into four different groups\n",
    "#The four cohorts are based on the descriptive statistics above\n",
    "#stackoverflow\n",
    "cross_sell['cohorts'] = pd.cut(cross_sell['TOTAL_MEALS_ORDERED'] , \n",
    "bins=[0, 11, 39, 60, 95, np.inf], \n",
    "labels=['0-11', '11-39', '39-60', '60-95', '>95'])\n",
    "\n",
    "# Counting customers in each cohort\n",
    "cohorts_counts = cross_sell['cohorts'].value_counts(sort = True,\n",
    "                                                       ascending = True)\n",
    "print(cohorts_counts)"
   ]
  },
  {
   "cell_type": "markdown",
   "id": "08aa43aa",
   "metadata": {},
   "source": [
    "<hr style=\"height:.9px;border:none;color:#333;background-color:#333;\" /><br>\n",
    "\n",
    "\n",
    "<strong> Developing Feature Engineering Features </strong><br>\n"
   ]
  },
  {
   "cell_type": "code",
   "execution_count": null,
   "id": "676a84a1",
   "metadata": {},
   "outputs": [],
   "source": [
    "#Instantiating a placegolder for Customers\n",
    "#that rate orders greater than the average\n",
    "cross_sell['High_Prep_Time'] = 0\n",
    "\n",
    "# Checking for a higher rating than the mean\n",
    "for index, value in cross_sell.iterrows():    \n",
    "    \n",
    "    if cross_sell.loc[index, 'AVG_PREP_VID_TIME'] > 100:\n",
    "        cross_sell.loc[index,'High_Prep_Time' ] = 1\n",
    "    \n",
    "    elif cross_sell.loc[index, 'AVG_PREP_VID_TIME'] < 100:\n",
    "        cross_sell.loc[index,'High_Prep_Time' ] = 0"
   ]
  },
  {
   "cell_type": "code",
   "execution_count": null,
   "id": "332d9358",
   "metadata": {},
   "outputs": [],
   "source": [
    "#Instantiating a placegolder for Customers\n",
    "#that have Large order size greater than the Average\n",
    "cross_sell['Mega_Orders'] = 0\n",
    "\n",
    "# Checking for a higher rating than the mean\n",
    "for index, value in cross_sell.iterrows():    \n",
    "    \n",
    "    if cross_sell.loc[index, 'LARGEST_ORDER_SIZE'] > 4:\n",
    "        cross_sell.loc[index,'Mega_Orders' ] = 1\n",
    "    \n",
    "    elif cross_sell.loc[index, 'LARGEST_ORDER_SIZE'] < 4:\n",
    "        cross_sell.loc[index,'Mega_Orders' ] = 0"
   ]
  },
  {
   "cell_type": "code",
   "execution_count": null,
   "id": "8831c246",
   "metadata": {},
   "outputs": [],
   "source": [
    "#Instantiating a placegolder for Customers\n",
    "#that have Large order size greater than the Average\n",
    "cross_sell['Different Tastes'] = 0\n",
    "\n",
    "# Checking for a higher rating than the mean\n",
    "for index, value in cross_sell.iterrows():    \n",
    "    \n",
    "    if cross_sell.loc[index, 'UNIQUE_MEALS_PURCH'] > 7:\n",
    "        cross_sell.loc[index,'Different Tastes' ] = 1\n",
    "    \n",
    "    elif cross_sell.loc[index, 'UNIQUE_MEALS_PURCH'] < 7:\n",
    "        cross_sell.loc[index,'Different Tastes'  ] = 0"
   ]
  },
  {
   "cell_type": "code",
   "execution_count": null,
   "id": "73fcfd42",
   "metadata": {},
   "outputs": [],
   "source": [
    "#Instantiating a placegolder for Customers\n",
    "#that have Large order size greater than the zobr\n",
    "cross_sell['Meal Searching'] = 0\n",
    "\n",
    "# Checking for a higher rating than the mean\n",
    "for index, value in cross_sell.iterrows():    \n",
    "    \n",
    "    if cross_sell.loc[index, 'TOTAL_PHOTOS_VIEWED'] > 113:\n",
    "        cross_sell.loc[index,'Meal Searching' ] = 1\n",
    "    \n",
    "    elif cross_sell.loc[index, 'TOTAL_PHOTOS_VIEWED'] < 113:\n",
    "        cross_sell.loc[index,'Meal Searching' ] = 0"
   ]
  },
  {
   "cell_type": "code",
   "execution_count": null,
   "id": "565280ce",
   "metadata": {},
   "outputs": [],
   "source": [
    "#Instantiating a placegolder for Customers\n",
    "#for order meal levels\n",
    "#Grouping the data optimal pattern identification\n",
    "cross_sell['Meal Order Tiers'] = 0\n",
    "\n",
    "# Checking for a higher rating than the mean\n",
    "for index, value in cross_sell.iterrows():    \n",
    "    \n",
    "    if cross_sell.loc[index, 'TOTAL_MEALS_ORDERED'] <= 100:\n",
    "        cross_sell.loc[index,'Meal Order Tiers' ] = 1\n",
    "    \n",
    "    elif cross_sell.loc[index, 'AVG_MEAN_RATING'] <= 200:\n",
    "        cross_sell.loc[index,'Meal Order Tiers' ] = 2\n",
    "    \n",
    "    elif cross_sell.loc[index, 'AVG_MEAN_RATING'] <= 300:\n",
    "        cross_sell.loc[index,'Meal Order Tiers' ] = 3\n",
    "    \n",
    "    elif cross_sell.loc[index, 'AVG_MEAN_RATING'] <= 400:\n",
    "        cross_sell.loc[index,'Meal Order Tiers' ] = 4\n",
    "    \n",
    "    elif cross_sell.loc[index, 'AVG_MEAN_RATING'] <= 500:\n",
    "        cross_sell.loc[index,'Meal Order Tiers' ] = 5\n",
    "              "
   ]
  },
  {
   "cell_type": "code",
   "execution_count": null,
   "id": "40c49ce6",
   "metadata": {},
   "outputs": [],
   "source": [
    "# Instantiating a placeholder for Customers that rate orders greater than the average\n",
    "cross_sell['Website_Activity'] = 0\n",
    "\n",
    "# Checking for a higher rating than the mean\n",
    "for index, value in cross_sell.iterrows():    \n",
    "    \n",
    "    if cross_sell.loc[index,'AVG_TIME_PER_SITE_VISIT'] <= 100:\n",
    "        cross_sell.loc[index,'Website_Activity'] = 1\n",
    "    \n",
    "    elif cross_sell.loc[index,'AVG_TIME_PER_SITE_VISIT'] <= 200:\n",
    "        cross_sell.loc[index,'Website_Activity'] = 2\n",
    "    \n",
    "    elif cross_sell.loc[index,'AVG_TIME_PER_SITE_VISIT'] <= 300:\n",
    "        cross_sell.loc[index,'Website_Activity'] = 3\n",
    "    \n",
    "    elif cross_sell.loc[index,'AVG_TIME_PER_SITE_VISIT'] <= 400:\n",
    "        cross_sell.loc[index,'Website_Activity'] = 4\n",
    "    \n",
    "    elif cross_sell.loc[index,'AVG_TIME_PER_SITE_VISIT'] <= 500:\n",
    "        cross_sell.loc[index,'Website_Activity'] = 5\n",
    "        \n",
    "    elif cross_sell.loc[index,'AVG_TIME_PER_SITE_VISIT'] <= 600:\n",
    "        cross_sell.loc[index,'Website_Activity'] = 6\n",
    "              "
   ]
  },
  {
   "cell_type": "code",
   "execution_count": null,
   "id": "e2eb80ae",
   "metadata": {},
   "outputs": [],
   "source": [
    "# Instantiating a placeholder for customers contacts W/Customer Service\n",
    "cross_sell['Customer_Morale'] = 0\n",
    "low_tier = [1, 2, 3, 4, 5]\n",
    "medium_tier = [6, 7, 8, 9, 10]\n",
    "high_tier  = [11, 12, 13, 18, 19]\n",
    "\n",
    "# Checking for a higher rating than the mean\n",
    "for index, value in cross_sell.iterrows():    \n",
    "    \n",
    "    if cross_sell.loc[index, 'CONTACTS_W_CUSTOMER_SERVICE'] in low_tier:\n",
    "        cross_sell.loc[index, 'Customer_Morale'] = 1\n",
    "    \n",
    "    elif cross_sell.loc[index, 'CONTACTS_W_CUSTOMER_SERVICE'] in medium_tier:\n",
    "        cross_sell.loc[index, 'Customer_Morale'] = 2\n",
    "    \n",
    "    elif cross_sell.loc[index, 'CONTACTS_W_CUSTOMER_SERVICE'] in high_tier:\n",
    "        cross_sell.loc[index, 'Customer_Morale'] = 3\n",
    "              "
   ]
  },
  {
   "cell_type": "code",
   "execution_count": null,
   "id": "3e0d9b1c",
   "metadata": {},
   "outputs": [],
   "source": [
    "cross_sell['DIVERSE_MEALS_TIERS'] = 0\n",
    "low_tier = [1, 2, 3, 4, 5]\n",
    "medium_tier = [6, 7, 8, 9, 10]\n",
    "high_tier  = [11, 12, 13, 18, 19]\n",
    "\n",
    "for index, value in cross_sell.iterrows():    \n",
    "    unique_meals_purchased = cross_sell.loc[index, 'UNIQUE_MEALS_PURCH']\n",
    "    if unique_meals_purchased in low_tier:\n",
    "        cross_sell.loc[index, 'DIVERSE_MEALS_TIERS'] = 1\n",
    "    elif unique_meals_purchased in medium_tier:\n",
    "        cross_sell.loc[index, 'DIVERSE_MEALS_TIERS'] = 2\n",
    "    elif unique_meals_purchased in high_tier:\n",
    "        cross_sell.loc[index, 'DIVERSE_MEALS_TIERS'] = 3"
   ]
  },
  {
   "cell_type": "code",
   "execution_count": null,
   "id": "b7fa9878",
   "metadata": {},
   "outputs": [],
   "source": [
    "#Instantiating a placegolder for Customers\n",
    "#that rate orders greater than the average\n",
    "cross_sell['Reliability'] = 0\n",
    "\n",
    "# Checking for a higher rating than the mean\n",
    "for index, value in cross_sell.iterrows():    \n",
    "    \n",
    "    if cross_sell.loc[index, 'CANCELLATIONS_AFTER_NOON'] < 10:\n",
    "        cross_sell.loc[index,'Reliability' ] = 1\n",
    "    \n",
    "    elif cross_sell.loc[index, 'CANCELLATIONS_AFTER_NOON'] > 10:\n",
    "        cross_sell.loc[index,'Reliability' ] = 0"
   ]
  },
  {
   "cell_type": "code",
   "execution_count": null,
   "id": "95ae9326",
   "metadata": {},
   "outputs": [],
   "source": [
    "#Instantiating a placeholder for Customers\n",
    "#that orders greater than the average\n",
    "cross_sell['High_Volume'] = 0\n",
    "\n",
    "# Checking for a higher rating than the mean\n",
    "for index, value in cross_sell.iterrows():    \n",
    "    \n",
    "    if cross_sell.loc[index, 'TOTAL_MEALS_ORDERED'] < 50:\n",
    "        cross_sell.loc[index,'High_Volume' ] = 1\n",
    "    \n",
    "    elif cross_sell.loc[index, 'TOTAL_MEALS_ORDERED'] > 50:\n",
    "        cross_sell.loc[index,'High_Volume' ] = 0"
   ]
  },
  {
   "cell_type": "code",
   "execution_count": null,
   "id": "47722dc9",
   "metadata": {},
   "outputs": [],
   "source": [
    "cross_sell['DIVERSE_MEALS_TIERS'].value_counts(normalize = True)"
   ]
  },
  {
   "cell_type": "markdown",
   "id": "fc47babd",
   "metadata": {},
   "source": [
    "<hr style=\"height:.9px;border:none;color:#333;background-color:#333;\" /><br>\n",
    "\n",
    "\n",
    "<strong>Preparing Explanatory and Response Data</strong><br>"
   ]
  },
  {
   "cell_type": "code",
   "execution_count": null,
   "id": "63330338",
   "metadata": {},
   "outputs": [],
   "source": [
    "# declaring explanatory variables\n",
    "cross_sell_data   = cross_sell.drop('CROSS_SELL_SUCCESS', axis = 1)\n",
    "\n",
    "\n",
    "# declaring response variable\n",
    "cross_sell_target = cross_sell[ 'CROSS_SELL_SUCCESS' ]"
   ]
  },
  {
   "cell_type": "markdown",
   "id": "8f99451d",
   "metadata": {},
   "source": [
    "<hr style=\"height:.9px;border:none;color:#333;background-color:#333;\" /><br>\n",
    "\n",
    "\n",
    "<strong>Setting up train-test split</strong><br>"
   ]
  },
  {
   "cell_type": "code",
   "execution_count": null,
   "id": "e8c217b5",
   "metadata": {},
   "outputs": [],
   "source": [
    "# train-test split with stratification\n",
    "x_train, x_test, y_train, y_test = train_test_split(\n",
    "            cross_sell_data,   # x_data\n",
    "            cross_sell_target, # y_data\n",
    "            test_size    = 0.25,\n",
    "            random_state = 219,\n",
    "            stratify     = cross_sell_target) # preserving balance\n",
    "\n",
    "\n",
    "# merging training data for statsmodels\n",
    "cross_train = pd.concat([x_train, y_train], axis = 1)"
   ]
  },
  {
   "cell_type": "code",
   "execution_count": null,
   "id": "8bf3f715",
   "metadata": {},
   "outputs": [],
   "source": [
    "print(f\"\"\"\n",
    "\n",
    "Response Variable Proportions (Training Set)\n",
    "--------------------------------------------\n",
    "{y_train.value_counts(normalize = True).round(decimals = 2)}\n",
    "\n",
    "\"\"\")\n",
    "\n"
   ]
  },
  {
   "cell_type": "markdown",
   "id": "06013640",
   "metadata": {},
   "source": [
    "<br><br>\n",
    "<h3>Cross Sell Correlation Matrix</h3><br>"
   ]
  },
  {
   "cell_type": "markdown",
   "id": "e9f21a2f",
   "metadata": {},
   "source": []
  },
  {
   "cell_type": "code",
   "execution_count": 632,
   "id": "048517c1",
   "metadata": {},
   "outputs": [
    {
     "name": "stdout",
     "output_type": "stream",
     "text": [
      "\n",
      "\n",
      "---------------------\n",
      "Cross_Sell_Corr\n",
      "---------------------\n",
      "                                    CROSS_SELL_SUCCESS\n",
      "CROSS_SELL_SUCCESS                                1.00\n",
      "REVENUE                                           0.00\n",
      "TOTAL_MEALS_ORDERED                               0.01\n",
      "UNIQUE_MEALS_PURCH                                0.04\n",
      "CONTACTS_W_CUSTOMER_SERVICE                      -0.00\n",
      "PRODUCT_CATEGORIES_VIEWED                         0.00\n",
      "AVG_TIME_PER_SITE_VISIT                           0.03\n",
      "CANCELLATIONS_AFTER_NOON                          0.14\n",
      "PC_LOGINS                                         0.04\n",
      "MOBILE_LOGINS                                     0.06\n",
      "WEEKLY_PLAN                                      -0.01\n",
      "AVG_PREP_VID_TIME                                 0.01\n",
      "LARGEST_ORDER_SIZE                                0.02\n",
      "AVG_MEAN_RATING                                  -0.04\n",
      "TOTAL_PHOTOS_VIEWED                               0.01\n",
      "USER_INTERACTION                                 -0.01\n",
      "Custom_Orders                                    -0.02\n",
      "Largest order size to Total Orders               -0.01\n",
      "Weekly_Optins                                    -0.01\n",
      "Avg Prep Per Meal                                -0.02\n",
      "Avg Time vs Orders                               -0.01\n",
      "Ordered Meals Per Photo                           0.01\n",
      "Cancellation_Frequency                            0.10\n",
      "Categories Frequency                             -0.03\n",
      "Time to Unique Orders                            -0.03\n",
      "Largest order size to Total Pohots                0.00\n",
      "Largest order size to Avg Time                   -0.01\n",
      "personal_email                                    0.04\n",
      "High_Prep_Time                                    0.02\n",
      "Mega_Orders                                       0.03\n",
      "Different Tastes                                  0.05\n",
      "Meal Searching                                    0.02\n",
      "Meal Order Tiers                                  0.02\n",
      "Website_Activity                                  0.03\n",
      "Customer_Morale                                   0.00\n",
      "DIVERSE_MEALS_TIERS                              -0.00\n",
      "Reliability                                      -0.02\n",
      "High_Volume                                      -0.05\n",
      "junk_email                                       -0.28\n",
      "High_Customer_Statisfaction                      -0.02\n",
      "Largest_To_Total Orders                          -0.01\n",
      "Largest_To_Total                                 -0.01\n",
      "TARGARYEN_FLAG                                     NaN\n",
      "TOP_COMPANY_FLAG                                  0.08\n",
      "LATE_DELIVERIES                                   0.02\n",
      "\n",
      "\n"
     ]
    }
   ],
   "source": [
    "# developing a correlation matrix\n",
    "df_corr = cross_sell.corr().round(2)\n",
    "# printing (Pearson) correlations with SalePrice\n",
    "Cross_Sell_Corr = df_corr.loc[ : , ['CROSS_SELL_SUCCESS'] ]\n",
    "\n",
    "# printing correlations of the new created Feature\n",
    "print(f\"\"\"\n",
    "\n",
    "---------------------\n",
    "Cross_Sell_Corr\n",
    "---------------------\n",
    "{Cross_Sell_Corr}\n",
    "\n",
    "\"\"\")"
   ]
  },
  {
   "cell_type": "markdown",
   "id": "0ab31520",
   "metadata": {},
   "source": [
    "<hr style=\"height:.9px;border:none;color:#333;background-color:#333;\" /><br>\n",
    "\n",
    "\n",
    "<strong>Building a Logisitic Regression Model</strong><br>"
   ]
  },
  {
   "cell_type": "code",
   "execution_count": 692,
   "id": "60f029b4",
   "metadata": {},
   "outputs": [
    {
     "name": "stdout",
     "output_type": "stream",
     "text": [
      " MOBILE_LOGINS + \n",
      " CANCELLATIONS_AFTER_NOON + \n",
      " junk_email + \n",
      " TOP_COMPANY_FLAG + \n",
      " High_Volume + \n"
     ]
    }
   ],
   "source": [
    "for val in cross_sell_data:\n",
    "    print(f\" {val} + \")"
   ]
  },
  {
   "cell_type": "markdown",
   "id": "fc057e88",
   "metadata": {},
   "source": [
    "<br><br>\n",
    "<h3>Logistic Regression Model</h3><br>"
   ]
  },
  {
   "cell_type": "code",
   "execution_count": 704,
   "id": "30edf4bd",
   "metadata": {},
   "outputs": [
    {
     "name": "stdout",
     "output_type": "stream",
     "text": [
      "Optimization terminated successfully.\n",
      "         Current function value: 0.570515\n",
      "         Iterations 6\n"
     ]
    },
    {
     "data": {
      "text/html": [
       "<table class=\"simpletable\">\n",
       "<tr>\n",
       "        <td>Model:</td>               <td>Logit</td>       <td>Pseudo R-squared:</td>    <td>0.091</td>  \n",
       "</tr>\n",
       "<tr>\n",
       "  <td>Dependent Variable:</td> <td>CROSS_SELL_SUCCESS</td>       <td>AIC:</td>         <td>2232.4458</td>\n",
       "</tr>\n",
       "<tr>\n",
       "         <td>Date:</td>         <td>2023-03-01 14:29</td>        <td>BIC:</td>         <td>2265.8869</td>\n",
       "</tr>\n",
       "<tr>\n",
       "   <td>No. Observations:</td>         <td>1946</td>         <td>Log-Likelihood:</td>    <td>-1110.2</td> \n",
       "</tr>\n",
       "<tr>\n",
       "       <td>Df Model:</td>               <td>5</td>             <td>LL-Null:</td>        <td>-1221.6</td> \n",
       "</tr>\n",
       "<tr>\n",
       "     <td>Df Residuals:</td>           <td>1940</td>          <td>LLR p-value:</td>    <td>3.8172e-46</td>\n",
       "</tr>\n",
       "<tr>\n",
       "      <td>Converged:</td>            <td>1.0000</td>            <td>Scale:</td>         <td>1.0000</td>  \n",
       "</tr>\n",
       "<tr>\n",
       "    <td>No. Iterations:</td>         <td>6.0000</td>               <td></td>               <td></td>     \n",
       "</tr>\n",
       "</table>\n",
       "<table class=\"simpletable\">\n",
       "<tr>\n",
       "              <td></td>              <th>Coef.</th>  <th>Std.Err.</th>     <th>z</th>     <th>P>|z|</th> <th>[0.025</th>  <th>0.975]</th> \n",
       "</tr>\n",
       "<tr>\n",
       "  <th>Intercept</th>                <td>-0.3499</td>  <td>0.5226</td>   <td>-0.6696</td> <td>0.5031</td> <td>-1.3743</td> <td>0.6744</td> \n",
       "</tr>\n",
       "<tr>\n",
       "  <th>CANCELLATIONS_AFTER_NOON</th> <td>0.2308</td>   <td>0.0362</td>   <td>6.3749</td>  <td>0.0000</td> <td>0.1598</td>  <td>0.3017</td> \n",
       "</tr>\n",
       "<tr>\n",
       "  <th>personal_email</th>           <td>-0.5592</td>  <td>0.1220</td>   <td>-4.5830</td> <td>0.0000</td> <td>-0.7983</td> <td>-0.3200</td>\n",
       "</tr>\n",
       "<tr>\n",
       "  <th>MOBILE_LOGINS</th>            <td>0.2692</td>   <td>0.0984</td>   <td>2.7347</td>  <td>0.0062</td> <td>0.0763</td>  <td>0.4622</td> \n",
       "</tr>\n",
       "<tr>\n",
       "  <th>PC_LOGINS</th>                <td>0.1857</td>   <td>0.0894</td>   <td>2.0777</td>  <td>0.0377</td> <td>0.0105</td>  <td>0.3610</td> \n",
       "</tr>\n",
       "<tr>\n",
       "  <th>junk_email</th>               <td>-1.7713</td>  <td>0.1427</td>  <td>-12.4113</td> <td>0.0000</td> <td>-2.0510</td> <td>-1.4916</td>\n",
       "</tr>\n",
       "</table>"
      ],
      "text/plain": [
       "<class 'statsmodels.iolib.summary2.Summary'>\n",
       "\"\"\"\n",
       "                             Results: Logit\n",
       "=========================================================================\n",
       "Model:                Logit                Pseudo R-squared:   0.091     \n",
       "Dependent Variable:   CROSS_SELL_SUCCESS   AIC:                2232.4458 \n",
       "Date:                 2023-03-01 14:29     BIC:                2265.8869 \n",
       "No. Observations:     1946                 Log-Likelihood:     -1110.2   \n",
       "Df Model:             5                    LL-Null:            -1221.6   \n",
       "Df Residuals:         1940                 LLR p-value:        3.8172e-46\n",
       "Converged:            1.0000               Scale:              1.0000    \n",
       "No. Iterations:       6.0000                                             \n",
       "-------------------------------------------------------------------------\n",
       "                          Coef.  Std.Err.    z     P>|z|   [0.025  0.975]\n",
       "-------------------------------------------------------------------------\n",
       "Intercept                -0.3499   0.5226  -0.6696 0.5031 -1.3743  0.6744\n",
       "CANCELLATIONS_AFTER_NOON  0.2308   0.0362   6.3749 0.0000  0.1598  0.3017\n",
       "personal_email           -0.5592   0.1220  -4.5830 0.0000 -0.7983 -0.3200\n",
       "MOBILE_LOGINS             0.2692   0.0984   2.7347 0.0062  0.0763  0.4622\n",
       "PC_LOGINS                 0.1857   0.0894   2.0777 0.0377  0.0105  0.3610\n",
       "junk_email               -1.7713   0.1427 -12.4113 0.0000 -2.0510 -1.4916\n",
       "=========================================================================\n",
       "\n",
       "\"\"\""
      ]
     },
     "execution_count": 704,
     "metadata": {},
     "output_type": "execute_result"
    }
   ],
   "source": [
    "# instantiating a logistic regression model object\n",
    "logistic_small = smf.logit(formula=\"\"\"CROSS_SELL_SUCCESS ~ \n",
    "                                          CANCELLATIONS_AFTER_NOON + \n",
    "                                          personal_email +  \n",
    "                                          MOBILE_LOGINS +\n",
    "                                          PC_LOGINS +\n",
    "                                          junk_email \n",
    "                                          \"\"\",\n",
    "                            data=cross_sell)\n",
    "\n",
    "# FITTING the model object\n",
    "results_logistic = logistic_small.fit()\n",
    "\n",
    "# checking the results SUMMARY\n",
    "results_logistic.summary2() # summary2() has AIC and BIC"
   ]
  },
  {
   "cell_type": "code",
   "execution_count": 705,
   "id": "45250433",
   "metadata": {},
   "outputs": [
    {
     "data": {
      "text/plain": [
       "33"
      ]
     },
     "execution_count": 705,
     "metadata": {},
     "output_type": "execute_result"
    }
   ],
   "source": [
    "2265 - 2232"
   ]
  },
  {
   "cell_type": "markdown",
   "id": "54979443",
   "metadata": {},
   "source": [
    "<hr style=\"height:.9px;border:none;color:#333;background-color:#333;\" /><br>\n",
    "\n",
    "\n",
    "<strong>Building different sets of Dictionaries</strong><br>"
   ]
  },
  {
   "cell_type": "code",
   "execution_count": 670,
   "id": "76dfbe7f",
   "metadata": {},
   "outputs": [],
   "source": [
    "# explanatory sets from last session\n",
    "\n",
    "# creating a dictionary to store candidate models\n",
    "\n",
    "candidate_dict = {\n",
    "\n",
    " # full model\n",
    " 'set_one'   : [ 'MOBILE_LOGINS', 'UNIQUE_MEALS_PURCH','CANCELLATIONS_AFTER_NOON',\n",
    "                'junk_email' 'TOP_COMPANY_FLAG',],\n",
    " \n",
    "\n",
    " # significant variables only (set 1)\n",
    " 'set_two'    : ['MOBILE_LOGINS','CANCELLATIONS_AFTER_NOON', \n",
    "                  'junk_email','TOP_COMPANY_FLAG', 'High_Volume'],\n",
    "    \n",
    " # significant variables only (set 2)\n",
    " 'set_3'  : ['MOBILE_LOGINS', 'PC_LOGINS', 'CANCELLATIONS_AFTER_NOON', \n",
    "                   ],\n",
    "\n",
    "}"
   ]
  },
  {
   "cell_type": "markdown",
   "id": "3deaec3b",
   "metadata": {},
   "source": [
    "<hr style=\"height:.9px;border:none;color:#333;background-color:#333;\" /><br>\n",
    "\n",
    "\n",
    "<strong>Setting up Confusion Matrix</strong><br>"
   ]
  },
  {
   "cell_type": "code",
   "execution_count": null,
   "id": "76b397e4",
   "metadata": {},
   "outputs": [],
   "source": [
    "########################################\n",
    "# visual_cm\n",
    "########################################\n",
    "def visual_cm(true_y, pred_y, labels = None):\n",
    "    \"\"\"\n",
    "Creates a visualization of a confusion matrix.\n",
    "\n",
    "PARAMETERS\n",
    "----------\n",
    "true_y : true values for the response variable\n",
    "pred_y : predicted values for the response variable\n",
    "labels : , default None\n",
    "    \"\"\"\n",
    "    # visualizing the confusion matrix\n",
    "\n",
    "    # setting labels\n",
    "    lbls = labels\n",
    "    \n",
    "\n",
    "    # declaring a confusion matrix object\n",
    "    cm = confusion_matrix(y_true = true_y,\n",
    "                          y_pred = pred_y)\n",
    "\n",
    "\n",
    "    # heatmap\n",
    "    sns.heatmap(cm,\n",
    "                annot       = True,\n",
    "                xticklabels = lbls,\n",
    "                yticklabels = lbls,\n",
    "                cmap        = 'Blues',\n",
    "                fmt         = 'g')\n",
    "\n",
    "\n",
    "    plt.xlabel('Predicted')\n",
    "    plt.ylabel('Actual')\n",
    "    plt.title('Confusion Matrix of the Classifier')\n",
    "    plt.show()"
   ]
  },
  {
   "cell_type": "code",
   "execution_count": 603,
   "id": "84ad4ca5",
   "metadata": {},
   "outputs": [
    {
     "name": "stdout",
     "output_type": "stream",
     "text": [
      "LogReg Training ACCURACY: 0.7258\n",
      "LogReg Testing  ACCURACY: 0.7228\n",
      "LogReg Train-Test Gap   : 0.003\n"
     ]
    }
   ],
   "source": [
    "# train/test split with the full model\n",
    "cross_sell_data   =  cross_sell.loc[ : , candidate_dict['set_one']]\n",
    "cross_sell_target =  cross_sell.loc[ : , 'CROSS_SELL_SUCCESS']\n",
    "\n",
    "\n",
    "# this is the exact code we were using before\n",
    "x_train, x_test, y_train, y_test = train_test_split(\n",
    "            cross_sell_data,\n",
    "            cross_sell_target,\n",
    "            random_state = 219,\n",
    "            test_size    = 0.25,\n",
    "            stratify     = cross_sell_target)\n",
    "\n",
    "\n",
    "# INSTANTIATING a logistic regression model\n",
    "logreg = LogisticRegression(solver = 'lbfgs',\n",
    "                            C = 1,\n",
    "                            random_state = 219)\n",
    "\n",
    "\n",
    "# FITTING the training data\n",
    "logreg_fit = logreg.fit(x_train, y_train)\n",
    "\n",
    "\n",
    "# PREDICTING based on the testing set\n",
    "logreg_pred = logreg_fit.predict(x_test)\n",
    "\n",
    "\n",
    "# SCORING the results\n",
    "print('LogReg Training ACCURACY:', logreg_fit.score(x_train, y_train).round(4))\n",
    "print('LogReg Testing  ACCURACY:', logreg_fit.score(x_test, y_test).round(4))\n",
    "\n",
    "# saving scoring data for future use\n",
    "logreg_train_score = logreg_fit.score(x_train, y_train).round(4) # accuracy\n",
    "logreg_test_score  = logreg_fit.score(x_test, y_test).round(4)   # accuracy\n",
    "\n",
    "\n",
    "# displaying and saving the gap between training and testing\n",
    "print('LogReg Train-Test Gap   :', abs(logreg_train_score - logreg_test_score).round(4))\n",
    "logreg_test_gap = abs(logreg_train_score - logreg_test_score).round(4)"
   ]
  },
  {
   "cell_type": "code",
   "execution_count": 604,
   "id": "84dd11d4",
   "metadata": {},
   "outputs": [
    {
     "name": "stdout",
     "output_type": "stream",
     "text": [
      "[[ 53 103]\n",
      " [ 32 299]]\n"
     ]
    }
   ],
   "source": [
    "# creating a confusion matrix\n",
    "print(confusion_matrix(y_true = y_test,\n",
    "                       y_pred = logreg_pred))"
   ]
  },
  {
   "cell_type": "code",
   "execution_count": 605,
   "id": "d5c673ab",
   "metadata": {},
   "outputs": [
    {
     "name": "stdout",
     "output_type": "stream",
     "text": [
      "\n",
      "True Negatives : 53\n",
      "False Positives: 103\n",
      "False Negatives: 32\n",
      "True Positives : 299\n",
      "\n"
     ]
    }
   ],
   "source": [
    "# unpacking the confusion matrix\n",
    "logreg_tn, \\\n",
    "logreg_fp, \\\n",
    "logreg_fn, \\\n",
    "logreg_tp = confusion_matrix(y_true = y_test, y_pred = logreg_pred).ravel()\n",
    "\n",
    "\n",
    "# printing each result one-by-one\n",
    "print(f\"\"\"\n",
    "True Negatives : {logreg_tn}\n",
    "False Positives: {logreg_fp}\n",
    "False Negatives: {logreg_fn}\n",
    "True Positives : {logreg_tp}\n",
    "\"\"\")"
   ]
  },
  {
   "cell_type": "markdown",
   "id": "c9ec32ae",
   "metadata": {},
   "source": [
    "<br><br>\n",
    "<h3>The Confusion Matrix</h3><br>"
   ]
  },
  {
   "cell_type": "code",
   "execution_count": 606,
   "id": "43ee222e",
   "metadata": {},
   "outputs": [
    {
     "data": {
      "image/png": "[encoded data removed]",
      "text/plain": [
       "<Figure size 640x480 with 2 Axes>"
      ]
     },
     "metadata": {},
     "output_type": "display_data"
    }
   ],
   "source": [
    "# calling the visual_cm function\n",
    "visual_cm(true_y = y_test,\n",
    "          pred_y = logreg_pred,\n",
    "          labels = ['CROSS_SELL_SUCCESS', 'CROSS_SELL_FAILED'])"
   ]
  },
  {
   "cell_type": "code",
   "execution_count": 607,
   "id": "b4672b65",
   "metadata": {},
   "outputs": [
    {
     "name": "stdout",
     "output_type": "stream",
     "text": [
      "0.6215\n"
     ]
    }
   ],
   "source": [
    "# area under the roc curve (auc)\n",
    "print(roc_auc_score(y_true  = y_test,\n",
    "                    y_score = logreg_pred).round(decimals = 4))\n",
    "\n",
    "\n",
    "# saving AUC score for future use\n",
    "logreg_auc_score = roc_auc_score(y_true  = y_test,\n",
    "                                 y_score = logreg_pred).round(decimals = 4)"
   ]
  },
  {
   "cell_type": "markdown",
   "id": "d32e5111",
   "metadata": {},
   "source": [
    "<hr style=\"height:.9px;border:none;color:#333;background-color:#333;\" /><br>\n",
    "\n",
    "\n",
    "<strong> Using Tree Pruned</strong><br>"
   ]
  },
  {
   "cell_type": "code",
   "execution_count": 683,
   "id": "d809643d",
   "metadata": {},
   "outputs": [
    {
     "name": "stdout",
     "output_type": "stream",
     "text": [
      "Training ACCURACY: 0.7121\n",
      "Testing  ACCURACY: 0.7125\n",
      "AUC Score        : 0.6225\n",
      "Train-Test Gap   : 0.001\n"
     ]
    }
   ],
   "source": [
    "\n",
    "# train/test split with the full model\n",
    "cross_sell_data   =  cross_sell.loc[ : , candidate_dict['set_two']]\n",
    "cross_sell_target =  cross_sell.loc[ : , 'CROSS_SELL_SUCCESS']\n",
    "\n",
    "\n",
    "# this is the exact code we were using before\n",
    "x_train, x_test, y_train, y_test = train_test_split(\n",
    "            cross_sell_data,\n",
    "            cross_sell_target,\n",
    "            random_state = 219,\n",
    "            test_size    = 0.25,\n",
    "            stratify     = cross_sell_target)\n",
    "\n",
    "\n",
    "#INSTANTIATING a classification tree object\n",
    "tree_pruned = DecisionTreeClassifier(max_depth        = 8,\n",
    "                                     min_samples_leaf = 150,\n",
    "                                     random_state     = 219)\n",
    "\n",
    "\n",
    "# FITTING the training data\n",
    "tree_pruned_fit = tree_pruned.fit(x_train, y_train)\n",
    "\n",
    "\n",
    "# PREDICTING on new data\n",
    "tree_pruned_pred = tree_pruned_fit.predict(x_test)\n",
    "model_gap = abs(model_train_score - model_test_score).round(4)\n",
    "\n",
    "\n",
    "\n",
    "# SCORING the model\n",
    "print('Training ACCURACY:', tree_pruned_fit.score(x_train, y_train).round(4))\n",
    "print('Testing  ACCURACY:', tree_pruned_fit.score(x_test, y_test).round(4))\n",
    "print('AUC Score        :', roc_auc_score(y_true  = y_test,\n",
    "                                         y_score = tree_pruned_pred).round(4))\n",
    "print('Train-Test Gap   :', model_gap)\n",
    "\n",
    "\n",
    "# saving scoring data for future use\n",
    "pruned_tree_train_score = tree_pruned_fit.score(x_train, y_train).round(4) # accuracy\n",
    "pruned_tree_test_score  = tree_pruned_fit.score(x_test, y_test).round(4) # accuracy\n",
    "\n",
    "\n",
    "# saving auc score\n",
    "pruned_tree_auc_score   = roc_auc_score(y_true  = y_test,\n",
    "                                        y_score = tree_pruned_pred).round(4) # auc"
   ]
  },
  {
   "cell_type": "markdown",
   "id": "49e70e29",
   "metadata": {},
   "source": [
    "##### <hr style=\"height:.9px;border:none;color:#333;background-color:#333;\" /><br>\n",
    "\n",
    "\n",
    "<strong> KNEIGHBORS </strong><br>"
   ]
  },
  {
   "cell_type": "code",
   "execution_count": null,
   "id": "dde1c41f",
   "metadata": {},
   "outputs": [],
   "source": [
    "#######################################\n",
    "# optimal_neighbors\n",
    "########################################\n",
    "def optimal_neighbors(x_data,\n",
    "                      y_data,\n",
    "                      standardize = True,\n",
    "                      pct_test=0.25,\n",
    "                      seed=219,\n",
    "                      response_type='reg',\n",
    "                      max_neighbors=20,\n",
    "                      show_viz=True):\n",
    "    \"\"\"\n",
    "Exhaustively compute training and testing results for KNN across\n",
    "[1, max_neighbors]. Outputs the maximum test score and (by default) a\n",
    "visualization of the results.\n",
    "PARAMETERS\n",
    "----------\n",
    "x_data        : explanatory variable data\n",
    "y_data        : response variable\n",
    "standardize   : whether or not to standardize the x data, default True\n",
    "pct_test      : test size for training and validation from (0,1), default 0.25\n",
    "seed          : random seed to be used in algorithm, default 219\n",
    "response_type : type of neighbors algorithm to use, default 'reg'\n",
    "    Use 'reg' for regression (KNeighborsRegressor)\n",
    "    Use 'class' for classification (KNeighborsClassifier)\n",
    "max_neighbors : maximum number of neighbors in exhaustive search, default 20\n",
    "show_viz      : display or surpress k-neigbors visualization, default True\n",
    "\"\"\"    \n",
    "    \n",
    "    \n",
    "    if standardize == True:\n",
    "        # optionally standardizing x_data\n",
    "        scaler             = StandardScaler()\n",
    "        scaler.fit(x_data)\n",
    "        x_scaled           = scaler.transform(x_data)\n",
    "        x_scaled_df        = pd.DataFrame(x_scaled)\n",
    "        x_data             = x_scaled_df\n",
    "\n",
    "\n",
    "\n",
    "    # train-test split\n",
    "    x_train, x_test, y_train, y_test = train_test_split(x_data,\n",
    "                                                        y_data,\n",
    "                                                        test_size = pct_test,\n",
    "                                                        random_state = seed)\n",
    "\n",
    "\n",
    "    # creating lists for training set accuracy and test set accuracy\n",
    "    training_accuracy = []\n",
    "    test_accuracy = []\n",
    "    \n",
    "    \n",
    "    # setting neighbor range\n",
    "    neighbors_settings = range(1, max_neighbors + 1)\n",
    "\n",
    "\n",
    "    for n_neighbors in neighbors_settings:\n",
    "        # building the model based on response variable type\n",
    "        if response_type == 'reg':\n",
    "            clf = KNeighborsRegressor(n_neighbors = n_neighbors)\n",
    "            clf.fit(x_train, y_train)\n",
    "            \n",
    "        elif response_type == 'class':\n",
    "            clf = KNeighborsClassifier(n_neighbors = n_neighbors)\n",
    "            clf.fit(x_train, y_train)            \n",
    "            \n",
    "        else:\n",
    "            print(\"Error: response_type must be 'reg' or 'class'\")\n",
    "        \n",
    "        \n",
    "        # recording the training set accuracy\n",
    "        training_accuracy.append(clf.score(x_train, y_train))\n",
    "    \n",
    "        # recording the generalization accuracy\n",
    "        test_accuracy.append(clf.score(x_test, y_test))\n",
    "\n",
    "\n",
    "    # optionally displaying visualization\n",
    "    if show_viz == True:\n",
    "        # plotting the visualization\n",
    "        fig, ax = plt.subplots(figsize=(12,8))\n",
    "        plt.plot(neighbors_settings, training_accuracy, label = \"training accuracy\")\n",
    "        plt.plot(neighbors_settings, test_accuracy, label = \"test accuracy\")\n",
    "        plt.ylabel(\"Accuracy\")\n",
    "        plt.xlabel(\"n_neighbors\")\n",
    "        plt.legend()\n",
    "        plt.show()\n",
    "    \n",
    "    \n",
    "    # returning optimal number of neighbors\n",
    "    print(f\"The optimal number of neighbors is: {test_accuracy.index(max(test_accuracy))+1}\")\n",
    "    return test_accuracy.index(max(test_accuracy))+1\n",
    "\n",
    "\n"
   ]
  },
  {
   "cell_type": "code",
   "execution_count": null,
   "id": "43a7f625",
   "metadata": {},
   "outputs": [],
   "source": [
    "# train/test split with the full model\n",
    "cross_sell_data   =  cross_sell.loc[ : , candidate_dict['set_one']]\n",
    "cross_sell_target =  cross_sell.loc[ : , 'CROSS_SELL_SUCCESS']\n",
    "\n",
    "\n",
    "# this is the exact code we were using before\n",
    "x_train, x_test, y_train, y_test = train_test_split(\n",
    "            cross_sell_data,\n",
    "            cross_sell_target,\n",
    "            random_state = 219,\n",
    "            test_size    = 0.25,\n",
    "            stratify     = cross_sell_target)\n",
    "\n",
    "# INSTANTIATING StandardScaler()\n",
    "scaler = StandardScaler()\n",
    "\n",
    "\n",
    "# FITTING the data\n",
    "scaler.fit(cross_sell_data)\n",
    "\n",
    "\n",
    "# TRANSFORMING the data\n",
    "x_scaled     = scaler.transform(cross_sell_data)\n",
    "\n",
    "\n",
    "# converting to a DataFrame\n",
    "x_scaled_df  = pd.DataFrame(x_scaled) \n",
    "\n",
    "\n",
    "# train-test split with the scaled data\n",
    "x_train_scaled, x_test_scaled, y_train_scaled, y_test_scaled = train_test_split(\n",
    "            x_scaled_df,\n",
    "            cross_sell_target,\n",
    "            random_state = 219,\n",
    "            test_size    = 0.25,\n",
    "            stratify     = cross_sell_target)\n",
    "\n",
    "\n",
    "# INSTANTIATING a KNN classification model with optimal neighbors\n",
    "knn_opt = KNeighborsClassifier(n_neighbors = opt_neighbors)\n",
    "\n",
    "\n",
    "# FITTING the training data\n",
    "knn_fit = knn_opt.fit(x_train_scaled, y_train_scaled)\n",
    "\n",
    "\n",
    "# PREDICTING based on the testing set\n",
    "knn_pred = knn_fit.predict(x_test_scaled)\n",
    "\n",
    "\n",
    "# SCORING the results\n",
    "print('Training ACCURACY:', knn_fit.score(x_train_scaled, y_train_scaled).round(4))\n",
    "print('Testing  ACCURACY:', knn_fit.score(x_test_scaled, y_test_scaled).round(4))\n",
    "print('AUC Score        :', roc_auc_score(y_true  = y_test,\n",
    "                                          y_score = knn_pred).round(4))\n",
    "\n",
    "\n",
    "# saving scoring data\n",
    "knn_train_score = knn_fit.score(x_train_scaled, y_train_scaled).round(4)\n",
    "knn_test_score  = knn_fit.score(x_test_scaled, y_test_scaled).round(4)\n",
    "\n",
    "\n",
    "# saving AUC score\n",
    "knn_auc_score   = roc_auc_score(y_true  = y_test,\n",
    "                                          y_score = knn_pred).round(4)"
   ]
  },
  {
   "cell_type": "code",
   "execution_count": null,
   "id": "e1ca6b18",
   "metadata": {},
   "outputs": [],
   "source": [
    "opt_neighbors = optimal_neighbors(x_data        = cross_sell_data,\n",
    "                                  y_data        = cross_sell_target,\n",
    "                                  response_type = 'class')"
   ]
  },
  {
   "cell_type": "markdown",
   "id": "5eeec191",
   "metadata": {},
   "source": [
    "##### <hr style=\"height:.9px;border:none;color:#333;background-color:#333;\" /><br>\n",
    "\n",
    "\n",
    "<strong> GradientBoosting Tuner Classifier </strong><br>"
   ]
  },
  {
   "cell_type": "code",
   "execution_count": null,
   "id": "984f3c44",
   "metadata": {
    "deletable": false,
    "editable": false
   },
   "outputs": [],
   "source": [
    "# INSTANTIATING the model object without hyperparameters\n",
    "tuned_gbm = GradientBoostingClassifier(random_state = 219)\n",
    "\n",
    "\n",
    "# RandomizedSearchCV object\n",
    "tuned_gbm_cv = RandomizedSearchCV(estimator             = tuned_gbm,      # model we are using\n",
    "                                  param_distributions   = param_grid_GBM, # tuning options (dictionary)\n",
    "                                  cv                    = 5,              # number of sets or folds we are going to build\n",
    "                                  n_iter                = 100,            # maximum models to build \n",
    "                                  random_state          = 219)            # for replicating results\n",
    "\n",
    "\n",
    "# FITTING to the FULL DATASET (due to cross-validation)\n",
    "tuned_gbm_cv.fit(x_data, y_data)\n",
    "\n",
    "\n",
    "# printing the optimal parameters and best score\n",
    "print(\"Tuned Parameters:\", tuned_gbm_cv.best_params_)\n",
    "print(\"Tuned Training R-squared:\", tuned_gbm_cv.best_score_.round(4))\n"
   ]
  },
  {
   "cell_type": "code",
   "execution_count": 665,
   "id": "0353a616",
   "metadata": {},
   "outputs": [
    {
     "name": "stdout",
     "output_type": "stream",
     "text": [
      "Training Score: 0.7258\n",
      "Testing Score: 0.7248\n",
      "AUC Score: 0.623\n",
      "Train-Test Gap: 0.001\n"
     ]
    }
   ],
   "source": [
    "# specifying a model name\n",
    "from sklearn.ensemble import GradientBoostingClassifier\n",
    "from sklearn.metrics import roc_auc_score\n",
    "\n",
    "model_name = 'GBC'\n",
    "\n",
    "# train/test split with the full model\n",
    "cross_sell_data   =  cross_sell.loc[ : , candidate_dict['set_one']]\n",
    "cross_sell_target =  cross_sell.loc[ : , 'CROSS_SELL_SUCCESS']\n",
    "\n",
    "# INSTANTIATING the model object\n",
    "model = GradientBoostingClassifier(loss = 'exponential',\n",
    "                                    n_estimators = 300,\n",
    "                                    criterion = 'squared_error',\n",
    "                                    min_samples_leaf = 1 ,\n",
    "                                    max_depth = 1 ,\n",
    "                                   random_state=219)\n",
    "\n",
    "# FITTING the training data\n",
    "model_fit = model.fit(x_train, y_train)\n",
    "\n",
    "# PREDICTING based on the testing set\n",
    "model_pred = model.predict(x_test)\n",
    "\n",
    "# SCORING the results\n",
    "model_train_score = model.score(x_train, y_train).round(4) # using R-square\n",
    "model_test_score = model.score(x_test, y_test).round(4) # using R-square\n",
    "model_auc_score = roc_auc_score(y_test, model_pred).round(4) # using AUC score\n",
    "model_gap = abs(model_train_score - model_test_score).round(4)\n",
    "\n",
    "# displaying results\n",
    "print('Training Score:', model_train_score)\n",
    "print('Testing Score:', model_test_score)\n",
    "print('AUC Score:', model_auc_score)\n",
    "print('Train-Test Gap:', model_gap)"
   ]
  },
  {
   "cell_type": "code",
   "execution_count": null,
   "id": "82db9bef",
   "metadata": {},
   "outputs": [],
   "source": [
    "# predictions for x_test\n",
    "tree_pruned.predict(x_test)\n",
    "tree_pruned.predict_proba(x_test)\n",
    "\n",
    "# probabilities of prediction for 1 (positive class)\n",
    "predictions_cross_sell = pd.DataFrame(data = tree_pruned.predict_proba(x_test))\n",
    "\n",
    "# renaming columns\n",
    "predictions_cross_sell.columns = ['negative', 'positive']\n",
    "\n",
    "predictions_cross_sell.loc[ : , 'positive']\n",
    "\n",
    "\n",
    "# joining predictions with y_test\n",
    "predictions_cross_sell.join(cross_sell.Series(y_test.reset_index(drop = True)))\n",
    "\n",
    "\n",
    "# changing the prediction threshold\n",
    "\n",
    "# placeholder column\n",
    "predictions_df['predictions_at_60'] = 0\n",
    "\n",
    "\n",
    "# looping to flag at 0.60 for positive class\n",
    "for index, column in predictions_df.iterrows():\n",
    "    \n",
    "    if  predictions_df.loc[ index, 'positive' ] >= 0.60:\n",
    "        predictions_df.loc[ index , 'predictions_at_60'] = 1\n",
    "        \n",
    "\n",
    "# outputting AUC score (p = 0.60 for positive class)\n",
    "roc_auc_score(y_true  = y_test,\n",
    "                        y_score = predictions_df['predictions_at_60']).round(4) # auc\n",
    "\n",
    "\n",
    "# original AUC score (p = 0.50 for positive class)\n",
    "roc_auc_score(y_true  = y_test,\n",
    "                        y_score = tree_pruned_pred).round(4) # auc"
   ]
  }
 ],
 "metadata": {
  "kernelspec": {
   "display_name": "Python 3 (ipykernel)",
   "language": "python",
   "name": "python3"
  },
  "language_info": {
   "codemirror_mode": {
    "name": "ipython",
    "version": 3
   },
   "file_extension": ".py",
   "mimetype": "text/x-python",
   "name": "python",
   "nbconvert_exporter": "python",
   "pygments_lexer": "ipython3",
   "version": "3.9.13"
  },
  "toc": {
   "base_numbering": 1,
   "nav_menu": {},
   "number_sections": true,
   "sideBar": true,
   "skip_h1_title": false,
   "title_cell": "Table of Contents",
   "title_sidebar": "Contents",
   "toc_cell": false,
   "toc_position": {},
   "toc_section_display": true,
   "toc_window_display": false
  },
  "varInspector": {
   "cols": {
    "lenName": 16,
    "lenType": 16,
    "lenVar": 40
   },
   "kernels_config": {
    "python": {
     "delete_cmd_postfix": "",
     "delete_cmd_prefix": "del ",
     "library": "var_list.py",
     "varRefreshCmd": "print(var_dic_list())"
    },
    "r": {
     "delete_cmd_postfix": ") ",
     "delete_cmd_prefix": "rm(",
     "library": "var_list.r",
     "varRefreshCmd": "cat(var_dic_list()) "
    }
   },
   "types_to_exclude": [
    "module",
    "function",
    "builtin_function_or_method",
    "instance",
    "_Feature"
   ],
   "window_display": false
  }
 },
 "nbformat": 4,
 "nbformat_minor": 5
}
